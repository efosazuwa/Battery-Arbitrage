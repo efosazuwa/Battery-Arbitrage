{
 "cells": [
  {
   "cell_type": "markdown",
   "id": "d53f8978",
   "metadata": {},
   "source": [
    "# Colab Link\n",
    "<a href=\"https://colab.research.google.com/drive/1zZWuUgP-zF0yl_ySi4abJbjNTEEID0rm?usp=sharing\"><img align=\"left\" src=\"https://colab.research.google.com/assets/colab-badge.svg\" alt=\"Open in Colab\" title=\"Open in Google Colaboratory\"></a>"
   ]
  },
  {
   "cell_type": "markdown",
   "id": "34ccbdf7",
   "metadata": {},
   "source": [
    "# Model Formalization\n",
    "\n",
    "**Indices**  \n",
    "\n",
    "time = $t$  \n",
    "batteries = $b$  \n",
    "\n",
    "**Variables**\n",
    "\n",
    "power demanded(purchased) = $P^d_{tb}$ (kwh)  \n",
    "power generated(sold) = $P^g_{tb}$ (kwh)     \n",
    "capacity = $C$ (kwh)\n",
    "\n",
    "**Parameters**  \n",
    "\n",
    "spot price = $s_t$ (\\\\$/MWh)     \n",
    "Max rate of charge = $R^c$ (kw)  \n",
    "Max rate of discharge = $R^d$ (kw)  \n",
    "Max Battery Capacity = $C^{max}$ (kwh)    \n",
    "Min Battery Capacity = $C^{min}$ (kwh)  \n",
    "Battery State = $C_t$ (kwh)    \n",
    "daily discharge energy capacity = $d$ (kwh)   \n",
    "round trip efficiency = $e$  (0 to 1)  \n",
    "  - Round trip efficiency goes in the objective too?  \n",
    "\n",
    "Number of time steps = $T$  \n",
    "Number of batteries = $B$    \n",
    "\n",
    "**Objective**  \n",
    "\n",
    "$$\n",
    "max \\quad \\sum_{t=1}^{T}\\sum_{b=1}^{B} P^g_{tb}s_t - P^d_{tb}s_t  \n",
    "$$\n",
    "\n",
    "The objective is to maximize the profit of the operating batteries by summing up the costs and revenues across all time steps and batteries. \n",
    "\n",
    "**Constraints**  \n",
    "\n",
    "$$\n",
    "\\begin{align}\n",
    "    C^{min} \\leq C_t \\leq C^{max} \\tag{1} \\\\\n",
    "    C_t = C_{t-1} + eP^d_{tb} - P^g_{tb} \\tag{2}\\\\\n",
    "    0 \\leq P^d_{tb} \\leq R^c \\tag{3}\\\\\n",
    "    0 \\leq P^g_{tb} \\leq R^d \\tag{4}\\\\\n",
    "    \\sum_{t=1}^{T} P^g_{bt} \\leq d_b \\quad \\forall b \\tag{5}\n",
    "\\end{align}\n",
    "$$  \n",
    "\n",
    "$1$: Sets the bounds of the battery state across all time steps.  \n",
    "$2$: Sets the charge state of the battery across all t given net power differential and the previous charge state.  \n",
    "$3$: Sets the bounds of the charge power for the battery.  \n",
    "$4$: Sets the bounds of the discharge power for the battery.  \n",
    "$5$: Sets the max energy that can be discharged in a day for a battery\n",
    "\n"
   ]
  },
  {
   "cell_type": "markdown",
   "id": "22618742",
   "metadata": {},
   "source": [
    "## Model"
   ]
  },
  {
   "cell_type": "code",
   "execution_count": 2,
   "id": "bf6359d7",
   "metadata": {},
   "outputs": [],
   "source": [
    "import pyomo.environ as pyo\n",
    "from pyomo.opt import SolverFactory\n",
    "\n",
    "import matplotlib.pyplot as plt\n",
    "import seaborn as sns\n",
    "import pandas as pd"
   ]
  },
  {
   "cell_type": "code",
   "execution_count": 3,
   "id": "11faac3d",
   "metadata": {
    "scrolled": true
   },
   "outputs": [
    {
     "data": {
      "text/html": [
       "<div>\n",
       "<style scoped>\n",
       "    .dataframe tbody tr th:only-of-type {\n",
       "        vertical-align: middle;\n",
       "    }\n",
       "\n",
       "    .dataframe tbody tr th {\n",
       "        vertical-align: top;\n",
       "    }\n",
       "\n",
       "    .dataframe thead th {\n",
       "        text-align: right;\n",
       "    }\n",
       "</style>\n",
       "<table border=\"1\" class=\"dataframe\">\n",
       "  <thead>\n",
       "    <tr style=\"text-align: right;\">\n",
       "      <th></th>\n",
       "      <th>Name</th>\n",
       "      <th>PTID</th>\n",
       "      <th>LBMP ($/MWHr)</th>\n",
       "      <th>Marginal Cost Losses ($/MWHr)</th>\n",
       "      <th>Marginal Cost Congestion ($/MWHr)</th>\n",
       "    </tr>\n",
       "    <tr>\n",
       "      <th>Time Stamp</th>\n",
       "      <th></th>\n",
       "      <th></th>\n",
       "      <th></th>\n",
       "      <th></th>\n",
       "      <th></th>\n",
       "    </tr>\n",
       "  </thead>\n",
       "  <tbody>\n",
       "    <tr>\n",
       "      <th>08/01/2017 00:00</th>\n",
       "      <td>CAPITL</td>\n",
       "      <td>61757</td>\n",
       "      <td>20.38</td>\n",
       "      <td>1.24</td>\n",
       "      <td>0.0</td>\n",
       "    </tr>\n",
       "    <tr>\n",
       "      <th>08/01/2017 00:00</th>\n",
       "      <td>CENTRL</td>\n",
       "      <td>61754</td>\n",
       "      <td>19.31</td>\n",
       "      <td>0.17</td>\n",
       "      <td>0.0</td>\n",
       "    </tr>\n",
       "    <tr>\n",
       "      <th>08/01/2017 00:00</th>\n",
       "      <td>DUNWOD</td>\n",
       "      <td>61760</td>\n",
       "      <td>21.38</td>\n",
       "      <td>2.24</td>\n",
       "      <td>0.0</td>\n",
       "    </tr>\n",
       "    <tr>\n",
       "      <th>08/01/2017 00:00</th>\n",
       "      <td>GENESE</td>\n",
       "      <td>61753</td>\n",
       "      <td>18.99</td>\n",
       "      <td>-0.15</td>\n",
       "      <td>0.0</td>\n",
       "    </tr>\n",
       "    <tr>\n",
       "      <th>08/01/2017 00:00</th>\n",
       "      <td>H Q</td>\n",
       "      <td>61844</td>\n",
       "      <td>18.43</td>\n",
       "      <td>-0.71</td>\n",
       "      <td>0.0</td>\n",
       "    </tr>\n",
       "  </tbody>\n",
       "</table>\n",
       "</div>"
      ],
      "text/plain": [
       "                    Name   PTID  LBMP ($/MWHr)  Marginal Cost Losses ($/MWHr)  \\\n",
       "Time Stamp                                                                      \n",
       "08/01/2017 00:00  CAPITL  61757          20.38                           1.24   \n",
       "08/01/2017 00:00  CENTRL  61754          19.31                           0.17   \n",
       "08/01/2017 00:00  DUNWOD  61760          21.38                           2.24   \n",
       "08/01/2017 00:00  GENESE  61753          18.99                          -0.15   \n",
       "08/01/2017 00:00     H Q  61844          18.43                          -0.71   \n",
       "\n",
       "                  Marginal Cost Congestion ($/MWHr)  \n",
       "Time Stamp                                           \n",
       "08/01/2017 00:00                                0.0  \n",
       "08/01/2017 00:00                                0.0  \n",
       "08/01/2017 00:00                                0.0  \n",
       "08/01/2017 00:00                                0.0  \n",
       "08/01/2017 00:00                                0.0  "
      ]
     },
     "execution_count": 3,
     "metadata": {},
     "output_type": "execute_result"
    }
   ],
   "source": [
    "df = pd.read_csv('data/20170801damlbmp_zone_csv/20170801damlbmp_zone.csv', index_col=\"Time Stamp\")\n",
    "df.head()"
   ]
  },
  {
   "cell_type": "code",
   "execution_count": 4,
   "id": "3be829db",
   "metadata": {},
   "outputs": [
    {
     "data": {
      "text/html": [
       "<div>\n",
       "<style scoped>\n",
       "    .dataframe tbody tr th:only-of-type {\n",
       "        vertical-align: middle;\n",
       "    }\n",
       "\n",
       "    .dataframe tbody tr th {\n",
       "        vertical-align: top;\n",
       "    }\n",
       "\n",
       "    .dataframe thead th {\n",
       "        text-align: right;\n",
       "    }\n",
       "</style>\n",
       "<table border=\"1\" class=\"dataframe\">\n",
       "  <thead>\n",
       "    <tr style=\"text-align: right;\">\n",
       "      <th></th>\n",
       "      <th>cost</th>\n",
       "    </tr>\n",
       "    <tr>\n",
       "      <th>Time Stamp</th>\n",
       "      <th></th>\n",
       "    </tr>\n",
       "  </thead>\n",
       "  <tbody>\n",
       "    <tr>\n",
       "      <th>08/01/2017 00:00</th>\n",
       "      <td>21.65</td>\n",
       "    </tr>\n",
       "    <tr>\n",
       "      <th>08/01/2017 01:00</th>\n",
       "      <td>19.94</td>\n",
       "    </tr>\n",
       "    <tr>\n",
       "      <th>08/01/2017 02:00</th>\n",
       "      <td>18.48</td>\n",
       "    </tr>\n",
       "    <tr>\n",
       "      <th>08/01/2017 03:00</th>\n",
       "      <td>17.28</td>\n",
       "    </tr>\n",
       "    <tr>\n",
       "      <th>08/01/2017 04:00</th>\n",
       "      <td>18.00</td>\n",
       "    </tr>\n",
       "  </tbody>\n",
       "</table>\n",
       "</div>"
      ],
      "text/plain": [
       "                   cost\n",
       "Time Stamp             \n",
       "08/01/2017 00:00  21.65\n",
       "08/01/2017 01:00  19.94\n",
       "08/01/2017 02:00  18.48\n",
       "08/01/2017 03:00  17.28\n",
       "08/01/2017 04:00  18.00"
      ]
     },
     "execution_count": 4,
     "metadata": {},
     "output_type": "execute_result"
    }
   ],
   "source": [
    "nyc_df=df[df[\"Name\"]=='N.Y.C.'][['LBMP ($/MWHr)']]\n",
    "nyc_df.columns = ['cost']\n",
    "nyc_df.head()"
   ]
  },
  {
   "cell_type": "code",
   "execution_count": 5,
   "id": "f1af5fd5",
   "metadata": {},
   "outputs": [
    {
     "data": {
      "text/plain": [
       "Text(0, 0.5, 'LBMP ($/MWHr)')"
      ]
     },
     "execution_count": 5,
     "metadata": {},
     "output_type": "execute_result"
    },
    {
     "data": {
      "image/png": "[encoded data removed]",
      "text/plain": [
       "<Figure size 1700x500 with 1 Axes>"
      ]
     },
     "metadata": {},
     "output_type": "display_data"
    }
   ],
   "source": [
    "nyc_df.plot(figsize=(17,5))\n",
    "plt.xlabel(\"Time\")\n",
    "plt.ylabel('LBMP ($/MWHr)')"
   ]
  },
  {
   "cell_type": "code",
   "execution_count": 6,
   "id": "4e8b4d34",
   "metadata": {},
   "outputs": [],
   "source": [
    "mcp = 100 # Max Charge Power\n",
    "mdp = 100 # Max Discharge Power\n",
    "d = 200   # Discharge energy capacity(Battery Energy Capacity)\n",
    "e = .85   # Round Trip efficiency\n",
    "ddl = 200 # Daily Energy Discharge Limit\n",
    "\n",
    "T = 24\n",
    "\n",
    "model = pyo.ConcreteModel()\n",
    "\n",
    "# Sets #\n",
    "model.t = pyo.RangeSet(1, T)\n",
    "model.b = pyo.Set(initialize=[1])\n",
    "\n",
    "# Variables #\n",
    "model.Pd = pyo.Var(model.t, model.b, bounds=(0, mcp),initialize=0)\n",
    "model.Pg = pyo.Var(model.t, model.b, bounds=(0, mdp),initialize=0)\n",
    "model.C = pyo.Var(model.t, bounds=(0, d), initialize=0)\n",
    "\n",
    "# Constraints #\n",
    "model.batterycharge = pyo.ConstraintList()\n",
    "for t in model.t:\n",
    "    for b in model.b:\n",
    "        if t > 1:\n",
    "            model.batterycharge.add(model.C[t] == model.C[t-1] + e*(model.Pd[t,b]) - model.Pg[t,b])\n",
    "        else:\n",
    "            pyo.Constraint.Skip\n",
    "            model.batterycharge.add(model.C[1]==0)\n",
    "\n",
    "# model.end = pyo.Constraint(expr= model.C[24]==200)\n",
    "\n",
    "model.dailydischarge = pyo.ConstraintList()\n",
    "for b in model.b:\n",
    "    model.dailydischarge.add(sum(model.Pg[t,b] for t in model.t)<=ddl)\n",
    "    \n",
    "\n",
    "# model.equaldischarge = pyo.ConstraintList()\n",
    "# for t in model.t:\n",
    "#     for b in model.b:\n",
    "#         if t>1:\n",
    "#             model.equaldischarge.add(model.Pg[t,b] <= model.C[t-1])\n",
    "#         else:\n",
    "#             pyo.Constraint.Skip\n",
    "            \n",
    "            \n",
    "\n",
    "    \n",
    "    \n",
    "# Objective #\n",
    "\n",
    "model.obj = pyo.Objective(expr=sum(model.Pg[i]*nyc_df.cost[i[0]-1] - \\\n",
    "                                   model.Pd[i]*nyc_df.cost[i[0]-1] for i in model.t*model.b), \n",
    "                                   sense=pyo.maximize )\n",
    "\n",
    "opt = SolverFactory('glpk')\n",
    "results = opt.solve(model)"
   ]
  },
  {
   "cell_type": "markdown",
   "id": "5cd4a237",
   "metadata": {},
   "source": [
    "# Results"
   ]
  },
  {
   "cell_type": "code",
   "execution_count": 7,
   "id": "3bc2cce0",
   "metadata": {},
   "outputs": [
    {
     "name": "stdout",
     "output_type": "stream",
     "text": [
      "\n",
      "Problem: \n",
      "- Name: unknown\n",
      "  Lower bound: 8925.76470588235\n",
      "  Upper bound: 8925.76470588235\n",
      "  Number of objectives: 1\n",
      "  Number of constraints: 25\n",
      "  Number of variables: 72\n",
      "  Number of nonzeros: 117\n",
      "  Sense: maximize\n",
      "Solver: \n",
      "- Status: ok\n",
      "  Termination condition: optimal\n",
      "  Statistics: \n",
      "    Branch and bound: \n",
      "      Number of bounded subproblems: 0\n",
      "      Number of created subproblems: 0\n",
      "  Error rc: 0\n",
      "  Time: 0.011321783065795898\n",
      "Solution: \n",
      "- number of solutions: 0\n",
      "  number of solutions displayed: 0\n",
      "\n"
     ]
    }
   ],
   "source": [
    "print(results)"
   ]
  },
  {
   "cell_type": "code",
   "execution_count": 8,
   "id": "41618e1c",
   "metadata": {},
   "outputs": [
    {
     "name": "stdout",
     "output_type": "stream",
     "text": [
      "The battery charge is 0.0 the power demanded(bought)           is 0.0 the power generated(sold) 0.0\n",
      "The battery charge is 0.0 the power demanded(bought)           is -0.0 the power generated(sold) 0.0\n",
      "The battery charge is 30.0 the power demanded(bought)           is 35.2941176470588 the power generated(sold) 0.0\n",
      "The battery charge is 115.0 the power demanded(bought)           is 100.0 the power generated(sold) 0.0\n",
      "The battery charge is 200.0 the power demanded(bought)           is 100.0 the power generated(sold) 0.0\n",
      "The battery charge is 200.0 the power demanded(bought)           is -0.0 the power generated(sold) 0.0\n",
      "The battery charge is 200.0 the power demanded(bought)           is -0.0 the power generated(sold) 0.0\n",
      "The battery charge is 200.0 the power demanded(bought)           is -0.0 the power generated(sold) 0.0\n",
      "The battery charge is 200.0 the power demanded(bought)           is 0.0 the power generated(sold) 0.0\n",
      "The battery charge is 200.0 the power demanded(bought)           is 0.0 the power generated(sold) 0.0\n",
      "The battery charge is 200.0 the power demanded(bought)           is 0.0 the power generated(sold) 0.0\n",
      "The battery charge is 200.0 the power demanded(bought)           is 0.0 the power generated(sold) 0.0\n",
      "The battery charge is 200.0 the power demanded(bought)           is -0.0 the power generated(sold) 0.0\n",
      "The battery charge is 200.0 the power demanded(bought)           is 0.0 the power generated(sold) 0.0\n",
      "The battery charge is 200.0 the power demanded(bought)           is 0.0 the power generated(sold) 0.0\n",
      "The battery charge is 200.0 the power demanded(bought)           is 0.0 the power generated(sold) 0.0\n",
      "The battery charge is 100.0 the power demanded(bought)           is 0.0 the power generated(sold) 100.0\n",
      "The battery charge is 0.0 the power demanded(bought)           is 0.0 the power generated(sold) 100.0\n",
      "The battery charge is 0.0 the power demanded(bought)           is 0.0 the power generated(sold) 0.0\n",
      "The battery charge is 0.0 the power demanded(bought)           is 0.0 the power generated(sold) 0.0\n",
      "The battery charge is 0.0 the power demanded(bought)           is 0.0 the power generated(sold) 0.0\n",
      "The battery charge is 0.0 the power demanded(bought)           is 0.0 the power generated(sold) 0.0\n",
      "The battery charge is 0.0 the power demanded(bought)           is -0.0 the power generated(sold) 0.0\n",
      "The battery charge is 0.0 the power demanded(bought)           is -0.0 the power generated(sold) 0.0\n"
     ]
    }
   ],
   "source": [
    "for x,y,z in zip(model.C.values(), model.Pd.values(), model.Pg.values()):\n",
    "    print(f\"The battery charge is {pyo.value(x)} the power demanded(bought) \\\n",
    "          is {pyo.value(y)} the power generated(sold) {pyo.value(z)}\")"
   ]
  },
  {
   "cell_type": "markdown",
   "id": "de777511",
   "metadata": {},
   "source": [
    "## Visualization"
   ]
  },
  {
   "cell_type": "code",
   "execution_count": 10,
   "id": "5481eb61",
   "metadata": {},
   "outputs": [],
   "source": [
    "import plotly.graph_objects as go"
   ]
  },
  {
   "cell_type": "code",
   "execution_count": 21,
   "id": "d7812571",
   "metadata": {},
   "outputs": [
    {
     "data": {
      "text/plain": [
       "<Axes: xlabel='Time Stamp'>"
      ]
     },
     "execution_count": 21,
     "metadata": {},
     "output_type": "execute_result"
    },
    {
     "data": {
      "image/png": "[encoded data removed]",
      "text/plain": [
       "<Figure size 1700x500 with 1 Axes>"
      ]
     },
     "metadata": {},
     "output_type": "display_data"
    }
   ],
   "source": [
    "charge_hist = [pyo.value(x) for x in model.C.values()]\n",
    "purchase_hist = [pyo.value(x) for x in model.Pd.values()]\n",
    "sale_hist = [pyo.value(x) for x in model.Pg.values()]\n",
    "\n",
    "df = pd.DataFrame({'Battery Energy(KWh)': charge_hist,\n",
    "                   'Purchases(KW)': purchase_hist,\n",
    "                   'Sales(KW)': sale_hist,\n",
    "                   'spot_price($)': nyc_df.cost.to_list()},\n",
    "                  index = pd.to_datetime(nyc_df.index))\n",
    "plt.figure(figsize=(17,5))\n",
    "sns.lineplot(data=df)"
   ]
  },
  {
   "cell_type": "code",
   "execution_count": 22,
   "id": "d5835239",
   "metadata": {},
   "outputs": [
    {
     "data": {
      "application/vnd.plotly.v1+json": {
       "config": {
        "plotlyServerURL": "https://plot.ly"
       },
       "data": [
        {
         "mode": "lines",
         "name": "Battery Energy(KWh)",
         "type": "scatter",
         "x": [
          "2017-08-01T00:00:00",
          "2017-08-01T01:00:00",
          "2017-08-01T02:00:00",
          "2017-08-01T03:00:00",
          "2017-08-01T04:00:00",
          "2017-08-01T05:00:00",
          "2017-08-01T06:00:00",
          "2017-08-01T07:00:00",
          "2017-08-01T08:00:00",
          "2017-08-01T09:00:00",
          "2017-08-01T10:00:00",
          "2017-08-01T11:00:00",
          "2017-08-01T12:00:00",
          "2017-08-01T13:00:00",
          "2017-08-01T14:00:00",
          "2017-08-01T15:00:00",
          "2017-08-01T16:00:00",
          "2017-08-01T17:00:00",
          "2017-08-01T18:00:00",
          "2017-08-01T19:00:00",
          "2017-08-01T20:00:00",
          "2017-08-01T21:00:00",
          "2017-08-01T22:00:00",
          "2017-08-01T23:00:00"
         ],
         "y": [
          0,
          0,
          30,
          115,
          200,
          200,
          200,
          200,
          200,
          200,
          200,
          200,
          200,
          200,
          200,
          200,
          100,
          0,
          0,
          0,
          0,
          0,
          0,
          0
         ]
        },
        {
         "mode": "lines",
         "name": "Purchases(KW)",
         "type": "scatter",
         "x": [
          "2017-08-01T00:00:00",
          "2017-08-01T01:00:00",
          "2017-08-01T02:00:00",
          "2017-08-01T03:00:00",
          "2017-08-01T04:00:00",
          "2017-08-01T05:00:00",
          "2017-08-01T06:00:00",
          "2017-08-01T07:00:00",
          "2017-08-01T08:00:00",
          "2017-08-01T09:00:00",
          "2017-08-01T10:00:00",
          "2017-08-01T11:00:00",
          "2017-08-01T12:00:00",
          "2017-08-01T13:00:00",
          "2017-08-01T14:00:00",
          "2017-08-01T15:00:00",
          "2017-08-01T16:00:00",
          "2017-08-01T17:00:00",
          "2017-08-01T18:00:00",
          "2017-08-01T19:00:00",
          "2017-08-01T20:00:00",
          "2017-08-01T21:00:00",
          "2017-08-01T22:00:00",
          "2017-08-01T23:00:00"
         ],
         "y": [
          0,
          0,
          35.2941176470588,
          100,
          100,
          0,
          0,
          0,
          0,
          0,
          0,
          0,
          0,
          0,
          0,
          0,
          0,
          0,
          0,
          0,
          0,
          0,
          0,
          0
         ]
        },
        {
         "mode": "lines",
         "name": "Sales(KW)",
         "type": "scatter",
         "x": [
          "2017-08-01T00:00:00",
          "2017-08-01T01:00:00",
          "2017-08-01T02:00:00",
          "2017-08-01T03:00:00",
          "2017-08-01T04:00:00",
          "2017-08-01T05:00:00",
          "2017-08-01T06:00:00",
          "2017-08-01T07:00:00",
          "2017-08-01T08:00:00",
          "2017-08-01T09:00:00",
          "2017-08-01T10:00:00",
          "2017-08-01T11:00:00",
          "2017-08-01T12:00:00",
          "2017-08-01T13:00:00",
          "2017-08-01T14:00:00",
          "2017-08-01T15:00:00",
          "2017-08-01T16:00:00",
          "2017-08-01T17:00:00",
          "2017-08-01T18:00:00",
          "2017-08-01T19:00:00",
          "2017-08-01T20:00:00",
          "2017-08-01T21:00:00",
          "2017-08-01T22:00:00",
          "2017-08-01T23:00:00"
         ],
         "y": [
          0,
          0,
          0,
          0,
          0,
          0,
          0,
          0,
          0,
          0,
          0,
          0,
          0,
          0,
          0,
          0,
          100,
          100,
          0,
          0,
          0,
          0,
          0,
          0
         ]
        },
        {
         "mode": "lines",
         "name": "spot_price($)",
         "type": "scatter",
         "x": [
          "2017-08-01T00:00:00",
          "2017-08-01T01:00:00",
          "2017-08-01T02:00:00",
          "2017-08-01T03:00:00",
          "2017-08-01T04:00:00",
          "2017-08-01T05:00:00",
          "2017-08-01T06:00:00",
          "2017-08-01T07:00:00",
          "2017-08-01T08:00:00",
          "2017-08-01T09:00:00",
          "2017-08-01T10:00:00",
          "2017-08-01T11:00:00",
          "2017-08-01T12:00:00",
          "2017-08-01T13:00:00",
          "2017-08-01T14:00:00",
          "2017-08-01T15:00:00",
          "2017-08-01T16:00:00",
          "2017-08-01T17:00:00",
          "2017-08-01T18:00:00",
          "2017-08-01T19:00:00",
          "2017-08-01T20:00:00",
          "2017-08-01T21:00:00",
          "2017-08-01T22:00:00",
          "2017-08-01T23:00:00"
         ],
         "y": [
          21.65,
          19.94,
          18.48,
          17.28,
          18,
          19.11,
          21.42,
          25,
          28.95,
          30.31,
          32.31,
          33.36,
          36.64,
          44.48,
          47.65,
          52.59,
          66,
          65.06,
          47.92,
          44.15,
          40.56,
          42.3,
          30.17,
          25.32
         ]
        }
       ],
       "layout": {
        "template": {
         "data": {
          "bar": [
           {
            "error_x": {
             "color": "#2a3f5f"
            },
            "error_y": {
             "color": "#2a3f5f"
            },
            "marker": {
             "line": {
              "color": "#E5ECF6",
              "width": 0.5
             },
             "pattern": {
              "fillmode": "overlay",
              "size": 10,
              "solidity": 0.2
             }
            },
            "type": "bar"
           }
          ],
          "barpolar": [
           {
            "marker": {
             "line": {
              "color": "#E5ECF6",
              "width": 0.5
             },
             "pattern": {
              "fillmode": "overlay",
              "size": 10,
              "solidity": 0.2
             }
            },
            "type": "barpolar"
           }
          ],
          "carpet": [
           {
            "aaxis": {
             "endlinecolor": "#2a3f5f",
             "gridcolor": "white",
             "linecolor": "white",
             "minorgridcolor": "white",
             "startlinecolor": "#2a3f5f"
            },
            "baxis": {
             "endlinecolor": "#2a3f5f",
             "gridcolor": "white",
             "linecolor": "white",
             "minorgridcolor": "white",
             "startlinecolor": "#2a3f5f"
            },
            "type": "carpet"
           }
          ],
          "choropleth": [
           {
            "colorbar": {
             "outlinewidth": 0,
             "ticks": ""
            },
            "type": "choropleth"
           }
          ],
          "contour": [
           {
            "colorbar": {
             "outlinewidth": 0,
             "ticks": ""
            },
            "colorscale": [
             [
              0,
              "#0d0887"
             ],
             [
              0.1111111111111111,
              "#46039f"
             ],
             [
              0.2222222222222222,
              "#7201a8"
             ],
             [
              0.3333333333333333,
              "#9c179e"
             ],
             [
              0.4444444444444444,
              "#bd3786"
             ],
             [
              0.5555555555555556,
              "#d8576b"
             ],
             [
              0.6666666666666666,
              "#ed7953"
             ],
             [
              0.7777777777777778,
              "#fb9f3a"
             ],
             [
              0.8888888888888888,
              "#fdca26"
             ],
             [
              1,
              "#f0f921"
             ]
            ],
            "type": "contour"
           }
          ],
          "contourcarpet": [
           {
            "colorbar": {
             "outlinewidth": 0,
             "ticks": ""
            },
            "type": "contourcarpet"
           }
          ],
          "heatmap": [
           {
            "colorbar": {
             "outlinewidth": 0,
             "ticks": ""
            },
            "colorscale": [
             [
              0,
              "#0d0887"
             ],
             [
              0.1111111111111111,
              "#46039f"
             ],
             [
              0.2222222222222222,
              "#7201a8"
             ],
             [
              0.3333333333333333,
              "#9c179e"
             ],
             [
              0.4444444444444444,
              "#bd3786"
             ],
             [
              0.5555555555555556,
              "#d8576b"
             ],
             [
              0.6666666666666666,
              "#ed7953"
             ],
             [
              0.7777777777777778,
              "#fb9f3a"
             ],
             [
              0.8888888888888888,
              "#fdca26"
             ],
             [
              1,
              "#f0f921"
             ]
            ],
            "type": "heatmap"
           }
          ],
          "heatmapgl": [
           {
            "colorbar": {
             "outlinewidth": 0,
             "ticks": ""
            },
            "colorscale": [
             [
              0,
              "#0d0887"
             ],
             [
              0.1111111111111111,
              "#46039f"
             ],
             [
              0.2222222222222222,
              "#7201a8"
             ],
             [
              0.3333333333333333,
              "#9c179e"
             ],
             [
              0.4444444444444444,
              "#bd3786"
             ],
             [
              0.5555555555555556,
              "#d8576b"
             ],
             [
              0.6666666666666666,
              "#ed7953"
             ],
             [
              0.7777777777777778,
              "#fb9f3a"
             ],
             [
              0.8888888888888888,
              "#fdca26"
             ],
             [
              1,
              "#f0f921"
             ]
            ],
            "type": "heatmapgl"
           }
          ],
          "histogram": [
           {
            "marker": {
             "pattern": {
              "fillmode": "overlay",
              "size": 10,
              "solidity": 0.2
             }
            },
            "type": "histogram"
           }
          ],
          "histogram2d": [
           {
            "colorbar": {
             "outlinewidth": 0,
             "ticks": ""
            },
            "colorscale": [
             [
              0,
              "#0d0887"
             ],
             [
              0.1111111111111111,
              "#46039f"
             ],
             [
              0.2222222222222222,
              "#7201a8"
             ],
             [
              0.3333333333333333,
              "#9c179e"
             ],
             [
              0.4444444444444444,
              "#bd3786"
             ],
             [
              0.5555555555555556,
              "#d8576b"
             ],
             [
              0.6666666666666666,
              "#ed7953"
             ],
             [
              0.7777777777777778,
              "#fb9f3a"
             ],
             [
              0.8888888888888888,
              "#fdca26"
             ],
             [
              1,
              "#f0f921"
             ]
            ],
            "type": "histogram2d"
           }
          ],
          "histogram2dcontour": [
           {
            "colorbar": {
             "outlinewidth": 0,
             "ticks": ""
            },
            "colorscale": [
             [
              0,
              "#0d0887"
             ],
             [
              0.1111111111111111,
              "#46039f"
             ],
             [
              0.2222222222222222,
              "#7201a8"
             ],
             [
              0.3333333333333333,
              "#9c179e"
             ],
             [
              0.4444444444444444,
              "#bd3786"
             ],
             [
              0.5555555555555556,
              "#d8576b"
             ],
             [
              0.6666666666666666,
              "#ed7953"
             ],
             [
              0.7777777777777778,
              "#fb9f3a"
             ],
             [
              0.8888888888888888,
              "#fdca26"
             ],
             [
              1,
              "#f0f921"
             ]
            ],
            "type": "histogram2dcontour"
           }
          ],
          "mesh3d": [
           {
            "colorbar": {
             "outlinewidth": 0,
             "ticks": ""
            },
            "type": "mesh3d"
           }
          ],
          "parcoords": [
           {
            "line": {
             "colorbar": {
              "outlinewidth": 0,
              "ticks": ""
             }
            },
            "type": "parcoords"
           }
          ],
          "pie": [
           {
            "automargin": true,
            "type": "pie"
           }
          ],
          "scatter": [
           {
            "fillpattern": {
             "fillmode": "overlay",
             "size": 10,
             "solidity": 0.2
            },
            "type": "scatter"
           }
          ],
          "scatter3d": [
           {
            "line": {
             "colorbar": {
              "outlinewidth": 0,
              "ticks": ""
             }
            },
            "marker": {
             "colorbar": {
              "outlinewidth": 0,
              "ticks": ""
             }
            },
            "type": "scatter3d"
           }
          ],
          "scattercarpet": [
           {
            "marker": {
             "colorbar": {
              "outlinewidth": 0,
              "ticks": ""
             }
            },
            "type": "scattercarpet"
           }
          ],
          "scattergeo": [
           {
            "marker": {
             "colorbar": {
              "outlinewidth": 0,
              "ticks": ""
             }
            },
            "type": "scattergeo"
           }
          ],
          "scattergl": [
           {
            "marker": {
             "colorbar": {
              "outlinewidth": 0,
              "ticks": ""
             }
            },
            "type": "scattergl"
           }
          ],
          "scattermapbox": [
           {
            "marker": {
             "colorbar": {
              "outlinewidth": 0,
              "ticks": ""
             }
            },
            "type": "scattermapbox"
           }
          ],
          "scatterpolar": [
           {
            "marker": {
             "colorbar": {
              "outlinewidth": 0,
              "ticks": ""
             }
            },
            "type": "scatterpolar"
           }
          ],
          "scatterpolargl": [
           {
            "marker": {
             "colorbar": {
              "outlinewidth": 0,
              "ticks": ""
             }
            },
            "type": "scatterpolargl"
           }
          ],
          "scatterternary": [
           {
            "marker": {
             "colorbar": {
              "outlinewidth": 0,
              "ticks": ""
             }
            },
            "type": "scatterternary"
           }
          ],
          "surface": [
           {
            "colorbar": {
             "outlinewidth": 0,
             "ticks": ""
            },
            "colorscale": [
             [
              0,
              "#0d0887"
             ],
             [
              0.1111111111111111,
              "#46039f"
             ],
             [
              0.2222222222222222,
              "#7201a8"
             ],
             [
              0.3333333333333333,
              "#9c179e"
             ],
             [
              0.4444444444444444,
              "#bd3786"
             ],
             [
              0.5555555555555556,
              "#d8576b"
             ],
             [
              0.6666666666666666,
              "#ed7953"
             ],
             [
              0.7777777777777778,
              "#fb9f3a"
             ],
             [
              0.8888888888888888,
              "#fdca26"
             ],
             [
              1,
              "#f0f921"
             ]
            ],
            "type": "surface"
           }
          ],
          "table": [
           {
            "cells": {
             "fill": {
              "color": "#EBF0F8"
             },
             "line": {
              "color": "white"
             }
            },
            "header": {
             "fill": {
              "color": "#C8D4E3"
             },
             "line": {
              "color": "white"
             }
            },
            "type": "table"
           }
          ]
         },
         "layout": {
          "annotationdefaults": {
           "arrowcolor": "#2a3f5f",
           "arrowhead": 0,
           "arrowwidth": 1
          },
          "autotypenumbers": "strict",
          "coloraxis": {
           "colorbar": {
            "outlinewidth": 0,
            "ticks": ""
           }
          },
          "colorscale": {
           "diverging": [
            [
             0,
             "#8e0152"
            ],
            [
             0.1,
             "#c51b7d"
            ],
            [
             0.2,
             "#de77ae"
            ],
            [
             0.3,
             "#f1b6da"
            ],
            [
             0.4,
             "#fde0ef"
            ],
            [
             0.5,
             "#f7f7f7"
            ],
            [
             0.6,
             "#e6f5d0"
            ],
            [
             0.7,
             "#b8e186"
            ],
            [
             0.8,
             "#7fbc41"
            ],
            [
             0.9,
             "#4d9221"
            ],
            [
             1,
             "#276419"
            ]
           ],
           "sequential": [
            [
             0,
             "#0d0887"
            ],
            [
             0.1111111111111111,
             "#46039f"
            ],
            [
             0.2222222222222222,
             "#7201a8"
            ],
            [
             0.3333333333333333,
             "#9c179e"
            ],
            [
             0.4444444444444444,
             "#bd3786"
            ],
            [
             0.5555555555555556,
             "#d8576b"
            ],
            [
             0.6666666666666666,
             "#ed7953"
            ],
            [
             0.7777777777777778,
             "#fb9f3a"
            ],
            [
             0.8888888888888888,
             "#fdca26"
            ],
            [
             1,
             "#f0f921"
            ]
           ],
           "sequentialminus": [
            [
             0,
             "#0d0887"
            ],
            [
             0.1111111111111111,
             "#46039f"
            ],
            [
             0.2222222222222222,
             "#7201a8"
            ],
            [
             0.3333333333333333,
             "#9c179e"
            ],
            [
             0.4444444444444444,
             "#bd3786"
            ],
            [
             0.5555555555555556,
             "#d8576b"
            ],
            [
             0.6666666666666666,
             "#ed7953"
            ],
            [
             0.7777777777777778,
             "#fb9f3a"
            ],
            [
             0.8888888888888888,
             "#fdca26"
            ],
            [
             1,
             "#f0f921"
            ]
           ]
          },
          "colorway": [
           "#636efa",
           "#EF553B",
           "#00cc96",
           "#ab63fa",
           "#FFA15A",
           "#19d3f3",
           "#FF6692",
           "#B6E880",
           "#FF97FF",
           "#FECB52"
          ],
          "font": {
           "color": "#2a3f5f"
          },
          "geo": {
           "bgcolor": "white",
           "lakecolor": "white",
           "landcolor": "#E5ECF6",
           "showlakes": true,
           "showland": true,
           "subunitcolor": "white"
          },
          "hoverlabel": {
           "align": "left"
          },
          "hovermode": "closest",
          "mapbox": {
           "style": "light"
          },
          "paper_bgcolor": "white",
          "plot_bgcolor": "#E5ECF6",
          "polar": {
           "angularaxis": {
            "gridcolor": "white",
            "linecolor": "white",
            "ticks": ""
           },
           "bgcolor": "#E5ECF6",
           "radialaxis": {
            "gridcolor": "white",
            "linecolor": "white",
            "ticks": ""
           }
          },
          "scene": {
           "xaxis": {
            "backgroundcolor": "#E5ECF6",
            "gridcolor": "white",
            "gridwidth": 2,
            "linecolor": "white",
            "showbackground": true,
            "ticks": "",
            "zerolinecolor": "white"
           },
           "yaxis": {
            "backgroundcolor": "#E5ECF6",
            "gridcolor": "white",
            "gridwidth": 2,
            "linecolor": "white",
            "showbackground": true,
            "ticks": "",
            "zerolinecolor": "white"
           },
           "zaxis": {
            "backgroundcolor": "#E5ECF6",
            "gridcolor": "white",
            "gridwidth": 2,
            "linecolor": "white",
            "showbackground": true,
            "ticks": "",
            "zerolinecolor": "white"
           }
          },
          "shapedefaults": {
           "line": {
            "color": "#2a3f5f"
           }
          },
          "ternary": {
           "aaxis": {
            "gridcolor": "white",
            "linecolor": "white",
            "ticks": ""
           },
           "baxis": {
            "gridcolor": "white",
            "linecolor": "white",
            "ticks": ""
           },
           "bgcolor": "#E5ECF6",
           "caxis": {
            "gridcolor": "white",
            "linecolor": "white",
            "ticks": ""
           }
          },
          "title": {
           "x": 0.05
          },
          "xaxis": {
           "automargin": true,
           "gridcolor": "white",
           "linecolor": "white",
           "ticks": "",
           "title": {
            "standoff": 15
           },
           "zerolinecolor": "white",
           "zerolinewidth": 2
          },
          "yaxis": {
           "automargin": true,
           "gridcolor": "white",
           "linecolor": "white",
           "ticks": "",
           "title": {
            "standoff": 15
           },
           "zerolinecolor": "white",
           "zerolinewidth": 2
          }
         }
        }
       }
      }
     },
     "metadata": {},
     "output_type": "display_data"
    }
   ],
   "source": [
    "fig = go.Figure()\n",
    "\n",
    "for col in df.columns:\n",
    "    fig.add_trace(go.Scatter(x=df.index, y=df[col], mode='lines', name=col))\n",
    "\n",
    "fig.show()"
   ]
  },
  {
   "cell_type": "code",
   "execution_count": 12,
   "id": "8a8c811a",
   "metadata": {},
   "outputs": [
    {
     "data": {
      "text/plain": [
       "Time Stamp\n",
       "2017-08-01 00:00:00    False\n",
       "2017-08-01 01:00:00    False\n",
       "2017-08-01 02:00:00     True\n",
       "2017-08-01 03:00:00     True\n",
       "2017-08-01 04:00:00     True\n",
       "2017-08-01 05:00:00    False\n",
       "2017-08-01 06:00:00    False\n",
       "2017-08-01 07:00:00    False\n",
       "2017-08-01 08:00:00    False\n",
       "2017-08-01 09:00:00    False\n",
       "2017-08-01 10:00:00    False\n",
       "2017-08-01 11:00:00    False\n",
       "2017-08-01 12:00:00    False\n",
       "2017-08-01 13:00:00    False\n",
       "2017-08-01 14:00:00    False\n",
       "2017-08-01 15:00:00    False\n",
       "2017-08-01 16:00:00    False\n",
       "2017-08-01 17:00:00    False\n",
       "2017-08-01 18:00:00    False\n",
       "2017-08-01 19:00:00    False\n",
       "2017-08-01 20:00:00    False\n",
       "2017-08-01 21:00:00    False\n",
       "2017-08-01 22:00:00    False\n",
       "2017-08-01 23:00:00    False\n",
       "Name: spot_price($), dtype: bool"
      ]
     },
     "execution_count": 12,
     "metadata": {},
     "output_type": "execute_result"
    }
   ],
   "source": [
    "df['spot_price($)'] <= 18.48"
   ]
  },
  {
   "cell_type": "markdown",
   "id": "22c9cf75",
   "metadata": {},
   "source": [
    "## Deliverables"
   ]
  },
  {
   "cell_type": "code",
   "execution_count": 13,
   "id": "ac960708",
   "metadata": {},
   "outputs": [
    {
     "data": {
      "text/plain": [
       "8.925764705882353"
      ]
     },
     "execution_count": 13,
     "metadata": {},
     "output_type": "execute_result"
    }
   ],
   "source": [
    "# Total revenue across each time step\n",
    "revenue = model.obj.expr()/1000\n",
    "revenue"
   ]
  },
  {
   "cell_type": "code",
   "execution_count": 14,
   "id": "fc4069f0",
   "metadata": {},
   "outputs": [
    {
     "data": {
      "text/plain": [
       "4.180235294117647"
      ]
     },
     "execution_count": 14,
     "metadata": {},
     "output_type": "execute_result"
    }
   ],
   "source": [
    "# Total cost of charging\n",
    "charging_cost = sum(df['purchases(KW)']*df['spot_price($)'])/1000\n",
    "charging_cost"
   ]
  },
  {
   "cell_type": "code",
   "execution_count": 15,
   "id": "bf3c530d",
   "metadata": {},
   "outputs": [
    {
     "data": {
      "text/plain": [
       "200.0"
      ]
     },
     "execution_count": 15,
     "metadata": {},
     "output_type": "execute_result"
    }
   ],
   "source": [
    "# Total power discharged across day\n",
    "total_discharge = sum(df['sales(KW)'])\n",
    "total_discharge"
   ]
  },
  {
   "cell_type": "code",
   "execution_count": 16,
   "id": "b28a5ed6",
   "metadata": {},
   "outputs": [
    {
     "data": {
      "text/plain": [
       "Time Stamp\n",
       "2017-08-01 00:00:00      0.000000\n",
       "2017-08-01 01:00:00      0.000000\n",
       "2017-08-01 02:00:00    -35.294118\n",
       "2017-08-01 03:00:00   -100.000000\n",
       "2017-08-01 04:00:00   -100.000000\n",
       "2017-08-01 05:00:00      0.000000\n",
       "2017-08-01 06:00:00      0.000000\n",
       "2017-08-01 07:00:00      0.000000\n",
       "2017-08-01 08:00:00      0.000000\n",
       "2017-08-01 09:00:00      0.000000\n",
       "2017-08-01 10:00:00      0.000000\n",
       "2017-08-01 11:00:00      0.000000\n",
       "2017-08-01 12:00:00      0.000000\n",
       "2017-08-01 13:00:00      0.000000\n",
       "2017-08-01 14:00:00      0.000000\n",
       "2017-08-01 15:00:00      0.000000\n",
       "2017-08-01 16:00:00    100.000000\n",
       "2017-08-01 17:00:00    100.000000\n",
       "2017-08-01 18:00:00      0.000000\n",
       "2017-08-01 19:00:00      0.000000\n",
       "2017-08-01 20:00:00      0.000000\n",
       "2017-08-01 21:00:00      0.000000\n",
       "2017-08-01 22:00:00      0.000000\n",
       "2017-08-01 23:00:00      0.000000\n",
       "dtype: float64"
      ]
     },
     "execution_count": 16,
     "metadata": {},
     "output_type": "execute_result"
    }
   ],
   "source": [
    "# Net power differential of battery at each time step\n",
    "net_power_ts = df['sales(KW)'] - df['purchases(KW)']\n",
    "net_power_ts"
   ]
  },
  {
   "cell_type": "code",
   "execution_count": 17,
   "id": "79505433",
   "metadata": {},
   "outputs": [
    {
     "data": {
      "text/plain": [
       "Time Stamp\n",
       "2017-08-01 00:00:00    0.02165\n",
       "2017-08-01 01:00:00    0.01994\n",
       "2017-08-01 02:00:00    0.01848\n",
       "2017-08-01 03:00:00    0.01728\n",
       "2017-08-01 04:00:00    0.01800\n",
       "2017-08-01 05:00:00    0.01911\n",
       "2017-08-01 06:00:00    0.02142\n",
       "2017-08-01 07:00:00    0.02500\n",
       "2017-08-01 08:00:00    0.02895\n",
       "2017-08-01 09:00:00    0.03031\n",
       "2017-08-01 10:00:00    0.03231\n",
       "2017-08-01 11:00:00    0.03336\n",
       "2017-08-01 12:00:00    0.03664\n",
       "2017-08-01 13:00:00    0.04448\n",
       "2017-08-01 14:00:00    0.04765\n",
       "2017-08-01 15:00:00    0.05259\n",
       "2017-08-01 16:00:00    0.06600\n",
       "2017-08-01 17:00:00    0.06506\n",
       "2017-08-01 18:00:00    0.04792\n",
       "2017-08-01 19:00:00    0.04415\n",
       "2017-08-01 20:00:00    0.04056\n",
       "2017-08-01 21:00:00    0.04230\n",
       "2017-08-01 22:00:00    0.03017\n",
       "2017-08-01 23:00:00    0.02532\n",
       "Name: spot_price($), dtype: float64"
      ]
     },
     "execution_count": 17,
     "metadata": {},
     "output_type": "execute_result"
    }
   ],
   "source": [
    "# the LBMP at each time step\n",
    "lbmp = df['spot_price($)']/1000\n",
    "lbmp #$/KWh"
   ]
  },
  {
   "cell_type": "code",
   "execution_count": 18,
   "id": "fbe6f59f",
   "metadata": {},
   "outputs": [
    {
     "data": {
      "text/plain": [
       "Time Stamp\n",
       "2017-08-01 00:00:00    0.000000\n",
       "2017-08-01 01:00:00    0.000000\n",
       "2017-08-01 02:00:00   -0.652235\n",
       "2017-08-01 03:00:00   -1.728000\n",
       "2017-08-01 04:00:00   -1.800000\n",
       "2017-08-01 05:00:00    0.000000\n",
       "2017-08-01 06:00:00    0.000000\n",
       "2017-08-01 07:00:00    0.000000\n",
       "2017-08-01 08:00:00    0.000000\n",
       "2017-08-01 09:00:00    0.000000\n",
       "2017-08-01 10:00:00    0.000000\n",
       "2017-08-01 11:00:00    0.000000\n",
       "2017-08-01 12:00:00    0.000000\n",
       "2017-08-01 13:00:00    0.000000\n",
       "2017-08-01 14:00:00    0.000000\n",
       "2017-08-01 15:00:00    0.000000\n",
       "2017-08-01 16:00:00    6.600000\n",
       "2017-08-01 17:00:00    6.506000\n",
       "2017-08-01 18:00:00    0.000000\n",
       "2017-08-01 19:00:00    0.000000\n",
       "2017-08-01 20:00:00    0.000000\n",
       "2017-08-01 21:00:00    0.000000\n",
       "2017-08-01 22:00:00    0.000000\n",
       "2017-08-01 23:00:00    0.000000\n",
       "dtype: float64"
      ]
     },
     "execution_count": 18,
     "metadata": {},
     "output_type": "execute_result"
    }
   ],
   "source": [
    "# revenue at each time step\n",
    "revenue_ts = (df['sales(KW)']*df['spot_price($)'] - df['purchases(KW)']* df['spot_price($)'])/1000\n",
    "revenue_ts"
   ]
  },
  {
   "cell_type": "markdown",
   "id": "fed224e4",
   "metadata": {},
   "source": [
    "# Additional thoughts to keep in mind\n",
    "\n",
    "- ramp rate\n",
    "- separate buy and sell price\n",
    "- pair with forecasting for a longer arbitrage horizon\n",
    "- multiple batteris\n",
    " - network effects"
   ]
  },
  {
   "cell_type": "code",
   "execution_count": null,
   "id": "c770b1af",
   "metadata": {},
   "outputs": [],
   "source": []
  }
 ],
 "metadata": {
  "kernelspec": {
   "display_name": "Python 3",
   "language": "python",
   "name": "python3"
  },
  "language_info": {
   "codemirror_mode": {
    "name": "ipython",
    "version": 3
   },
   "file_extension": ".py",
   "mimetype": "text/x-python",
   "name": "python",
   "nbconvert_exporter": "python",
   "pygments_lexer": "ipython3",
   "version": "3.10.12"
  }
 },
 "nbformat": 4,
 "nbformat_minor": 5
}
